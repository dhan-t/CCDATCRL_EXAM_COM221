{
  "cells": [
    {
      "cell_type": "markdown",
      "metadata": {
        "colab_type": "text",
        "id": "view-in-github"
      },
      "source": [
        "<a href=\"https://colab.research.google.com/github/robitussin/CCDATRCL_EXAM/blob/main/exam1.ipynb\" target=\"_parent\"><img src=\"https://colab.research.google.com/assets/colab-badge.svg\" alt=\"Open In Colab\"/></a>"
      ]
    },
    {
      "cell_type": "markdown",
      "metadata": {
        "id": "yaz2B0KGFehP"
      },
      "source": [
        "# Midterm Exam 💛💙"
      ]
    },
    {
      "cell_type": "markdown",
      "metadata": {
        "id": "_DmK1ONEFehQ"
      },
      "source": [
        "**Instructions** ❗️❗️\n",
        "\n",
        "❌ Do not remove or modify the notebook **sections**, **subsections**, **exam questions** or **any text** in this python notebook\n",
        "\n",
        "✔️ Put your answer in the designated cells below each question"
      ]
    },
    {
      "cell_type": "markdown",
      "metadata": {
        "id": "TMCAXKWCFehR"
      },
      "source": [
        "## Search"
      ]
    },
    {
      "cell_type": "code",
      "execution_count": null,
      "metadata": {
        "id": "Fy8nEBRRFehR"
      },
      "outputs": [],
      "source": [
        "def linearSearch(my_list, number):\n",
        "\n",
        "    index = 0\n",
        "\n",
        "    for i in my_list:\n",
        "\n",
        "        if my_list[index] == number:\n",
        "            return index\n",
        "\n",
        "        index = index + 1\n",
        "\n",
        "    return -1\n",
        "\n",
        "def findLargestIncrease(my_list, startIndex):\n",
        "    \n",
        "    global incCount\n",
        "    \n",
        "    i = startIndex\n",
        "    \n",
        "    while i != len(my_list):\n",
        "        if my_list[i] >= incCount:\n",
        "            incCount = my_list[i]\n",
        "            i+=1\n",
        "            \n",
        "        elif my_list[i] <= incCount:\n",
        "            lowestNum = my_list[i]\n",
        "            i+=1\n",
        "    \n",
        "    \n",
        "    print(\"Increment, Between \", lowestNum, \" and \", incCount )\n",
        "    \n",
        "    \n",
        "def findLargestDecrease(my_list, index):\n",
        "    global incCount\n",
        "    \n",
        "    i = index\n",
        "    \n",
        "    while i != len(my_list):\n",
        "        if my_list[i] <= incCount:\n",
        "            incCount = my_list[i]\n",
        "            i+=1\n",
        "            \n",
        "        elif my_list[i] >= incCount:\n",
        "            lowestNum = my_list[i]\n",
        "            i+=1\n",
        "    \n",
        "    \n",
        "    print(\"Decrement, Between \", lowestNum, \" and \", incCount )\n"
      ]
    },
    {
      "cell_type": "markdown",
      "metadata": {
        "id": "AjAevpueFehS"
      },
      "source": [
        "1. Using **linear search**, write a `findLargestIncrease()` function to find the largest increase in value between two adjacent numbers in your student number `(10 points)`\n",
        "\n",
        "    **Example:**\n",
        "\n",
        "    student_number = [2,0,2,2,6,2,5,1,9,3]\n",
        "\n",
        "    **Expected Output:**\n",
        "\n",
        "    findLargestIncrease(student_number)\n",
        "\n",
        "    Output: Between 1 and 9\n",
        "\n",
        "    **Explanation:**\n",
        "\n",
        "    From this student_number, the largest increase happened from number 1 to number 9"
      ]
    },
    {
      "cell_type": "code",
      "execution_count": null,
      "metadata": {
        "id": "JE8nEfyJFehS"
      },
      "outputs": [],
      "source": [
        "# put your answer here.\n",
        "\n",
        "student_number = [2,0,2,2,1,0,1,4,2,4]\n",
        "\n",
        "incCount = 0\n",
        "index = linearSearch(student_number, incCount)\n",
        "\n",
        "linearSearch(student_number, incCount)\n",
        "\n",
        "findLargestIncrease(student_number, index)\n"
      ]
    },
    {
      "cell_type": "markdown",
      "metadata": {
        "id": "nMyr1fNyFehS"
      },
      "source": [
        "2. Using **linear search**, write a `findLargestDecrease()` function to find the largest decrease in value between two adjacent numbers in your student number `(10 points)`\n",
        "\n",
        "    **Example:**\n",
        "\n",
        "    student_number = [2,0,2,2,6,2,5,1,9,3]\n",
        "\n",
        "    **Expected Output:**\n",
        "\n",
        "    findLargestDecrease(student_number)\n",
        "\n",
        "    Output: Between 9 and 3\n",
        "\n",
        "    **Explanation:**\n",
        "\n",
        "    From this student_number, the largest decrease happened from number 9 to number 3"
      ]
    },
    {
      "cell_type": "code",
      "execution_count": null,
      "metadata": {
        "id": "bfMfQVbVFehS"
      },
      "outputs": [],
      "source": [
        "# put your answer here\n",
        "\n",
        "student_number = [2,0,2,2,1,0,1,4,2,4]\n",
        "\n",
        "incCount = 0\n",
        "index = linearSearch(student_number, incCount)\n",
        "\n",
        "linearSearch(student_number, incCount)\n",
        "\n",
        "findLargestDecrease(student_number, index)"
      ]
    },
    {
      "cell_type": "markdown",
      "metadata": {
        "id": "NtKSQn9QFehS"
      },
      "source": [
        "## Linked List"
      ]
    },
    {
      "cell_type": "code",
      "execution_count": null,
      "metadata": {
        "id": "0HP5zyJcFehS"
      },
      "outputs": [],
      "source": [
        "class Node:\n",
        "\n",
        "    def __init__(self, data):\n",
        "        self.data = data\n",
        "        self.next = None  # null"
      ]
    },
    {
      "cell_type": "code",
      "execution_count": null,
      "metadata": {
        "id": "A-8Uefe7FehS"
      },
      "outputs": [],
      "source": [
        "class LinkedList:\n",
        "    def __init__(self, valueOfID):\n",
        "        if not valueOfID:\n",
        "            self.head = None\n",
        "            return\n",
        "    \n",
        "        self.head = Node(valueOfID[0])\n",
        "        current = self.head\n",
        "        for valueOfID in valueOfID[1:]:\n",
        "            current.next = Node(valueOfID)\n",
        "            current = current.next\n",
        "    \n",
        "    def traverse(self, node):\n",
        "        print(\"[\", end=\"\")\n",
        "        while node:\n",
        "            print(node.data, end=\", \")\n",
        "            node = node.next\n",
        "        print(\"]\")\n",
        "        \n",
        "    def hasPrime(self, num_list, start_index):\n",
        "        hasPrime = False\n",
        "        i = start_index \n",
        "\n",
        "        for x in num_list[start_index:]:\n",
        "            if x % 2 == 1:\n",
        "                i += 1\n",
        "                hasPrime = True\n",
        "            else:\n",
        "                i += 1\n",
        "\n",
        "        if hasPrime:\n",
        "            print(\"True\")\n",
        "        else:\n",
        "            print(\"False\")\n",
        "\n",
        "\n",
        "    def removeZero(self, num_list):\n",
        "            \n",
        "        hasZero = True\n",
        "            \n",
        "        i = x = 0\n",
        "            \n",
        "        for i in num_list:\n",
        "            if num_list[x] == 0:\n",
        "                num_list.pop(x)\n",
        "                x += 1\n",
        "                i += 1\n",
        "                \n",
        "            else:\n",
        "                if x == len(num_list):\n",
        "                    hasZero = False\n",
        "            \n",
        "        if hasZero:\n",
        "            print(num_list)\n",
        "        else:\n",
        "            print(\"No zeroes found\")\n",
        "            \n"
      ]
    },
    {
      "cell_type": "markdown",
      "metadata": {
        "id": "uPgIJJuSFehT"
      },
      "source": [
        "**Instructions** ❗️❗️\n",
        "\n",
        "Use the pre-defined linked list class/functions to create a linked list"
      ]
    },
    {
      "cell_type": "markdown",
      "metadata": {
        "id": "WIwpW7Q2FehT"
      },
      "source": [
        "1. Create a Singly linked list named **num_list** and print all of its elements. `(5 points)`\n",
        "\n",
        "- **num_list** should contain all digits of your student number.\n",
        "\n",
        "    **Expected Output:**\n",
        "\n",
        "    print(num_list)\n",
        "\n",
        "    [2, 0, 2, 2, 1, 2, 3, 4, 5, 6]"
      ]
    },
    {
      "cell_type": "code",
      "execution_count": null,
      "metadata": {
        "id": "Lihv0JPiFehT"
      },
      "outputs": [],
      "source": [
        "# put your answer here\n",
        "valueOfID = [2,0,2,2,1,0,1,4,2,4]\n",
        "\n",
        "link_list = LinkedList(valueOfID)\n",
        "\n",
        "link_list.traverse(link_list.head)"
      ]
    },
    {
      "cell_type": "markdown",
      "metadata": {
        "id": "dqA2UYrYFehT"
      },
      "source": [
        "2. Write a `hasPrime()` function to test whether a prime number is in the last six digits of **num_list**. `(5 points)`\n",
        "\n",
        "- If a prime number is in the last six digits of **num_list**, the method should return **true**\n",
        "\n",
        "- If a prime number is not in the last six digits of **num_list**, the method should return **false**\n",
        "\n",
        "    **Expected Output:**\n",
        "\n",
        "    hasPrime(num_list)\n",
        "\n",
        "    True"
      ]
    },
    {
      "cell_type": "code",
      "execution_count": null,
      "metadata": {
        "id": "GYwsQNz5FehT"
      },
      "outputs": [],
      "source": [
        "# put your answer here\n",
        "num_list = [2,0,2,2,1,0,1,4,2,4]\n",
        "\n",
        "link_list = LinkedList(num_list)\n",
        "\n",
        "startIndex = len(num_list) - 6\n",
        "\n",
        "link_list.hasPrime(num_list, startIndex)\n"
      ]
    },
    {
      "cell_type": "markdown",
      "metadata": {
        "id": "5Qb0BOiwFehT"
      },
      "source": [
        "3. Write a `removeZeroes()` function to remove all occurrences of zeroes in **num_list**. `(5 points)`\n",
        "\n",
        "- If a zero is in **num_list**, return **num_list**\n",
        "\n",
        "- If there are no zeroes in **num_list**, return **\"no zeros found\"**\n",
        "\n",
        "    **Expected Output:**\n",
        "\n",
        "    removeZeroes(num_list)\n",
        "\n",
        "    [2, 2, 1, 2, 3, 4, 5, 6]"
      ]
    },
    {
      "cell_type": "code",
      "execution_count": null,
      "metadata": {
        "id": "k1vAHUYuFehT"
      },
      "outputs": [],
      "source": [
        "# put your answer here\n",
        "num_list = [2,0,2,2,1,0,1,4,2,4]\n",
        "\n",
        "link_list = LinkedList(num_list)\n",
        "\n",
        "link_list.removeZero(num_list)\n"
      ]
    },
    {
      "cell_type": "markdown",
      "metadata": {
        "id": "SKAlpglNFehT"
      },
      "source": [
        "4. Insert a dash symbol between the 4th and 5th digit in **num_list**. `(5 points)`\n",
        "\n",
        "    **Expected Output:**\n",
        "\n",
        "    print(num_list)\n",
        "\n",
        "    [2, 0, 2, 2, \"-\", 1, 2, 3, 4, 5, 6]"
      ]
    },
    {
      "cell_type": "code",
      "execution_count": null,
      "metadata": {
        "id": "vF7fimZ-FehT"
      },
      "outputs": [],
      "source": [
        "# put your answer here"
      ]
    },
    {
      "cell_type": "markdown",
      "metadata": {
        "id": "KkC-LgdxFehT"
      },
      "source": [
        "## Stack"
      ]
    },
    {
      "cell_type": "code",
      "execution_count": null,
      "metadata": {
        "id": "UYTqB1u_FehU"
      },
      "outputs": [],
      "source": [
        "# Creating a stack\n",
        "def create_stack():\n",
        "    stack = []\n",
        "    return stack\n",
        "\n",
        "def print_stack(stack):\n",
        "\n",
        "    if (check_empty(stack)):\n",
        "            return \"stack is empty\"\n",
        "\n",
        "    # Create a copy of the stack and reverse the elements\n",
        "    tempStack = stack.copy()\n",
        "    tempStack.reverse()\n",
        "\n",
        "    # Print all elements using a loop\n",
        "    for i in tempStack:\n",
        "        print(i)\n",
        "\n",
        "    # Delete the copy to free up memory\n",
        "    del tempStack\n",
        "\n",
        "# Creating an empty stack\n",
        "def check_empty(stack):\n",
        "    return len(stack) == 0\n",
        "\n",
        "\n",
        "# Adding items into the stack\n",
        "def push(stack, item):\n",
        "    stack.append(item)\n",
        "    print(\"pushed item: \" + item)\n",
        "\n",
        "\n",
        "# Removing an element from the stack\n",
        "def pop(stack):\n",
        "    if (check_empty(stack)):\n",
        "        return \"stack is empty\"\n",
        "\n",
        "    return stack.pop()\n",
        "\n",
        "def peek(stack):\n",
        "\n",
        "    # Use negative indexing to display the last element of the list\n",
        "    print(stack[-1])"
      ]
    },
    {
      "cell_type": "markdown",
      "metadata": {
        "id": "wLAQchs8FehU"
      },
      "source": [
        "**Instructions** ❗️❗️\n",
        "\n",
        "Use the pre-defined stack class/functions to create a stack"
      ]
    },
    {
      "cell_type": "markdown",
      "metadata": {
        "id": "37cg9BoCFehU"
      },
      "source": [
        "1. Create two (2) stacks named **name_stack** and **num_stack** `(5 points)`\n",
        "\n",
        "- **name_stack** should contain all letters of your first name.\n",
        "- **num_stack** should contain all digits of your student number.\n",
        "\n",
        "    **Expected Output:**\n",
        "\n",
        "    print(name_stack)\n",
        "\n",
        "    ['E', 'L', 'I', 'Z', 'E', 'R']\n",
        "\n",
        "    print(num_stack)\n",
        "\n",
        "    [2,0,2,2,1,2,3,4,5,6]"
      ]
    },
    {
      "cell_type": "code",
      "execution_count": null,
      "metadata": {
        "id": "HlUIUQzQFehU"
      },
      "outputs": [],
      "source": [
        "# put your answer here\n",
        "myName = ['D', 'H', 'A', 'N']\n",
        "myIDNum = [2,0,2,2,1,0,1,4,2,4]\n",
        "\n",
        "name_stack = []\n",
        "num_stack = []\n",
        "\n",
        "myNameCount = len(myName)\n",
        "myIDNumCount = len(myIDNum)\n",
        "\n",
        "for i in range(myNameCount):\n",
        "    push(name_stack, myName[i])\n",
        "\n",
        "for j in range(myIDNumCount):\n",
        "    push(num_stack, str(myIDNum[j]))\n",
        "\n",
        "print(name_stack)\n",
        "print(num_stack)"
      ]
    },
    {
      "cell_type": "markdown",
      "metadata": {
        "id": "8cySe9LXFehU"
      },
      "source": [
        "2. Create a stack named **my_stack** that follows the following format: `(5 points)`\n",
        "\n",
        "- The first element should be the **5th digit in your student number**\n",
        "- The succeeding elements should be the letters of your **first name**\n",
        "- The last element should be the **last digit of your student number**\n",
        "\n",
        "    **Expected Output:**\n",
        "\n",
        "    my_stack = [1, E, L, I, Z, E, R, 6]"
      ]
    },
    {
      "cell_type": "code",
      "execution_count": null,
      "metadata": {
        "id": "bEnCoAhjFehU"
      },
      "outputs": [],
      "source": [
        "# put your answer here\n",
        "myName = ['D', 'H', 'A', 'N']\n",
        "myIDNum = [2,0,2,2,1,0,1,4,2,4]\n",
        "\n",
        "my_stack = create_stack()\n",
        "\n",
        "push(my_stack, str(myIDNum[4]))\n",
        "\n",
        "for letter in myName:\n",
        "    push(my_stack, letter)\n",
        "    \n",
        "push(my_stack, str(myIDNum[-1]))\n",
        "    \n",
        "    \n",
        "print(my_stack)"
      ]
    },
    {
      "cell_type": "markdown",
      "metadata": {
        "id": "8a8_KP5nFehU"
      },
      "source": [
        "3. Write a `verifyStack()` function that will take in `my_stack` and check if its format has been followed `(10 points)`\n",
        "\n",
        "- Return **True** if the format has been followed\n",
        "- Return **False** if the format was not followed\n",
        "- Verify the format by checking the contents of **my_stack** with **name_stack** and **num_stack**\n",
        "\n",
        "    **Expected Output:**\n",
        "\n",
        "    my_stack = [1, E, L, I, Z, E, R, 6]\n",
        "\n",
        "    verifyStack(my_stack)\n",
        "\n",
        "    True\n",
        "\n",
        "    my_stack = [1, S, L, I, Z, E, R, 7]\n",
        "\n",
        "    verifyStack(my_stack)\n",
        "\n",
        "    False"
      ]
    },
    {
      "cell_type": "code",
      "execution_count": null,
      "metadata": {
        "id": "RdANSxD0FehU"
      },
      "outputs": [],
      "source": [
        "# put your answer here\n",
        "def verifyStack(my_stack):\n",
        "    name_stack = ['D', 'H', 'A', 'N']\n",
        "    num_stack = ['1', '4']\n",
        "\n",
        "    nameIndex = 0\n",
        "    numIndex = 0\n",
        "\n",
        "    for item in my_stack:\n",
        "        if item in name_stack and nameIndex < len(name_stack):\n",
        "\n",
        "            if item == name_stack[nameIndex]:\n",
        "                nameIndex += 1\n",
        "            else:\n",
        "                return False\n",
        "        elif str(item) in num_stack and numIndex < len(num_stack):\n",
        "\n",
        "            if str(item) == num_stack[numIndex]:\n",
        "                numIndex += 1\n",
        "            else:\n",
        "                return False\n",
        "        else:\n",
        "            return False\n",
        "\n",
        "    return nameIndex == len(name_stack) and numIndex == len(num_stack)\n",
        "\n",
        "my_stack1 = [1,'D', 'H', 'A', 'N', 4]\n",
        "print(verifyStack(my_stack1))\n",
        "\n",
        "my_stack2 = [6, 'D', 'H', 'A', 'N', 9]\n",
        "print(verifyStack(my_stack2))\n"
      ]
    },
    {
      "cell_type": "markdown",
      "metadata": {
        "id": "UC5C64B2FehU"
      },
      "source": [
        "## Queue"
      ]
    },
    {
      "cell_type": "code",
      "execution_count": null,
      "metadata": {
        "id": "NJJ0j0LHFehU"
      },
      "outputs": [],
      "source": [
        "class Queue:\n",
        "    def __init__(self):\n",
        "        self.queue = []\n",
        "\n",
        "    # Add an element\n",
        "    def enqueue(self, item):\n",
        "        self.queue.append(item)\n",
        "\n",
        "    # Remove an element\n",
        "    def dequeue(self):\n",
        "        if len(self.queue) < 1:\n",
        "            return None\n",
        "        return self.queue.pop(0)\n",
        "\n",
        "    # Display  the queue\n",
        "    def display(self):\n",
        "        print(self.queue)\n",
        "\n",
        "    def size(self):\n",
        "        return len(self.queue)\n",
        "\n",
        "    def peek(self):\n",
        "        return self.queue[0]"
      ]
    },
    {
      "cell_type": "markdown",
      "metadata": {
        "id": "80OekpbeFehV"
      },
      "source": [
        "**Instructions** ❗️❗️\n",
        "\n",
        "Use the pre-defined queue class/functions to create a Queue"
      ]
    },
    {
      "cell_type": "markdown",
      "metadata": {
        "id": "_Hf0OP5cFehV"
      },
      "source": [
        "1. Create a simple queue named **num_queue** `(5 points)`\n",
        "\n",
        "- **num_queue** should contain all digits of your student number.\n",
        "\n",
        "    **Expected Output:**\n",
        "\n",
        "    print(num_queue)\n",
        "\n",
        "    [2,0,2,2,1,2,3,4,5,6]"
      ]
    },
    {
      "cell_type": "code",
      "execution_count": null,
      "metadata": {
        "id": "_mgmE4ArFehV"
      },
      "outputs": [],
      "source": [
        "# put your answer here\n",
        "myIDNum = \"2022101424\"\n",
        "num_queue = Queue()\n",
        "\n",
        "for digit in myIDNum:\n",
        "    num_queue.enqueue(int(digit))\n",
        "\n",
        "num_queue.display()"
      ]
    },
    {
      "cell_type": "markdown",
      "metadata": {
        "id": "1pHG8t6DFehV"
      },
      "source": [
        "2. Write a `getMax()` or `getMin()` function for **num_queue** `(5 points)`\n",
        "\n",
        "- If your student number ends with an odd number, create a `getMax()` function that will return the largest number in **num_queue**\n",
        "- If your student number ends with an even number, create a `getMin()` function that will return the lowest number in **num_queue**\n",
        "\n",
        "    **Expected Output for getMax():**\n",
        "\n",
        "    getMax(num_queue)\n",
        "\n",
        "    6\n",
        "\n",
        "    **Expected Output for getMin():**\n",
        "\n",
        "    getMin(num_queue)\n",
        "\n",
        "    0"
      ]
    },
    {
      "cell_type": "code",
      "execution_count": null,
      "metadata": {
        "id": "itj2U610FehV"
      },
      "outputs": [],
      "source": [
        "# put your answer here\n",
        "def getMax(queue):\n",
        "    if len(queue.queue) == 0:\n",
        "        return None\n",
        "    max_value = max(queue.queue)\n",
        "    return max_value\n",
        "\n",
        "def getMin(queue):\n",
        "    if len(queue.queue) == 0:\n",
        "        return None\n",
        "    min_value = min(queue.queue)\n",
        "    return min_value\n",
        "\n",
        "myIDNum = \"2022101424\"\n",
        "num_queue = Queue()\n",
        "\n",
        "for digit in student_number:\n",
        "    num_queue.enqueue(int(digit))\n",
        "\n",
        "last_digit = int(student_number[-1])\n",
        "\n",
        "if last_digit % 2 == 0:\n",
        "    result = getMin(num_queue)\n",
        "    print(\"getMin(num_queue)\\n\")\n",
        "else:\n",
        "    result = getMax(num_queue)\n",
        "    print(\"getMax(num_queue)\\n\")\n",
        "\n",
        "print(result)"
      ]
    },
    {
      "cell_type": "markdown",
      "metadata": {
        "id": "YkgmP6GwFehV"
      },
      "source": [
        "3. Write a `getOdd()` or `getEven()` function for  **num_queue** `(5 points)`\n",
        "\n",
        "- If your student number ends with an **odd number**, create a `getOdd()` function that will return all odd numbers in **num_queue**\n",
        "- If your student number ends with an **even number**, create a `getEven()` function that will return all even numbers in **num_queue**\n",
        "\n",
        "    **Expected Output for getOdd():**\n",
        "\n",
        "    getOdd(num_queue)\n",
        "\n",
        "    [1, 3, 5]\n",
        "\n",
        "    **Expected Output for getEven():**\n",
        "\n",
        "    getEven(num_queue)\n",
        "\n",
        "    [0, 2, 4, 6]"
      ]
    },
    {
      "cell_type": "code",
      "execution_count": null,
      "metadata": {
        "id": "2Bc7E1zNFehV"
      },
      "outputs": [],
      "source": [
        "# put your answer here\n",
        "def getOdd(queue):\n",
        "    odd_numbers = set()\n",
        "    for item in queue.queue:\n",
        "        if item % 2 != 0:\n",
        "            odd_numbers.add(item)\n",
        "    return list(odd_numbers)\n",
        "\n",
        "def getEven(queue):\n",
        "    even_numbers = set()\n",
        "    for item in queue.queue:\n",
        "        if item % 2 == 0:\n",
        "            even_numbers.add(item)\n",
        "    return list(even_numbers)\n",
        "\n",
        "student_number = \"2022101424\"\n",
        "\n",
        "num_queue = Queue()\n",
        "\n",
        "for digit in student_number:\n",
        "    num_queue.enqueue(int(digit))\n",
        "\n",
        "last_digit = int(student_number[-1])\n",
        "\n",
        "if last_digit % 2 == 0:\n",
        "    result = getEven(num_queue)\n",
        "else:\n",
        "    result = getOdd(num_queue)\n",
        "\n",
        "print(result)"
      ]
    },
    {
      "cell_type": "markdown",
      "metadata": {
        "id": "kuzWF5g4FehV"
      },
      "source": [
        "4. Write a `removeDup()` function that will remove all duplicates in **num_queue** `(5 points)`\n",
        "\n",
        "    **Expected Output:**\n",
        "\n",
        "    removeDup(num_queue)\n",
        "\n",
        "    [2,0,1,3,4,5,6]"
      ]
    },
    {
      "cell_type": "code",
      "execution_count": 56,
      "metadata": {
        "id": "I8LeQP8MFehY"
      },
      "outputs": [
        {
          "name": "stdout",
          "output_type": "stream",
          "text": [
            "['2', '0', '1', '4']\n"
          ]
        }
      ],
      "source": [
        "# put your answer here\n",
        "\n",
        "def removeDup(queue):\n",
        "  for i in range (queue.size()):\n",
        "      temp_list.append(queue.peek())\n",
        "      queue.dequeue()\n",
        "\n",
        "  for j in range (len(temp_list)):\n",
        "    if (temp_list[j] not in new_list):\n",
        "      new_list.append(temp_list[j])\n",
        "\n",
        "  print(new_list)\n",
        "\n",
        "temp_list = []\n",
        "new_list = []\n",
        "student_number = \"2022101424\"\n",
        "\n",
        "for i in range (len(student_number)):\n",
        "  num_queue.enqueue(student_number[i])\n",
        "\n",
        "removeDup(num_queue)"
      ]
    },
    {
      "cell_type": "markdown",
      "metadata": {
        "id": "LVfZTh8YFehZ"
      },
      "source": [
        "## Sort"
      ]
    },
    {
      "cell_type": "markdown",
      "metadata": {
        "id": "bm9lonfzFehZ"
      },
      "source": [
        "**Instructions** ❗️❗️\n",
        "\n",
        "Use the any sorting algoritms"
      ]
    },
    {
      "cell_type": "markdown",
      "metadata": {
        "id": "EJTlxhEdFehZ"
      },
      "source": [
        "1. Using any sorting algorithm, sort the **last 6 digits** of your student number in ascending order `(5 points)`\n",
        "\n",
        "    **Example:**\n",
        "\n",
        "    student_number = [2,0,2,2,6,2,5,1,3,4]\n",
        "\n",
        "    **Expected Output:**\n",
        "\n",
        "    print(student_number)\n",
        "\n",
        "    [2,0,2,2,1,2,3,4,5,6]\n"
      ]
    },
    {
      "cell_type": "code",
      "execution_count": 58,
      "metadata": {
        "id": "MkZKfveOFehZ"
      },
      "outputs": [
        {
          "name": "stdout",
          "output_type": "stream",
          "text": [
            "Sorted: [2, 0, 2, 2, 0, 1, 1, 2, 4, 4]\n"
          ]
        }
      ],
      "source": [
        "# put your answer here\n",
        "def insertionSort(array):\n",
        "    global num_of_steps\n",
        "    for step in range(1, len(array)):\n",
        "        key = array[step]\n",
        "        j = step - 1\n",
        "\n",
        "        while j >= 0 and key < array[j]:\n",
        "            array[j + 1] = array[j]\n",
        "            j = j - 1\n",
        "\n",
        "        array[j + 1] = key\n",
        "\n",
        "student_number = [2,0,2,2,1,0,1,4,2,4]\n",
        "temp_array = []\n",
        "\n",
        "for i in range(len(student_number)-4):\n",
        "    temp_array.append(student_number[i+4])\n",
        "\n",
        "insertionSort(temp_array)\n",
        "\n",
        "for i in range(len(temp_array)):\n",
        "  student_number[i+4] = (temp_array[i])\n",
        "\n",
        "print(student_number)"
      ]
    },
    {
      "cell_type": "markdown",
      "metadata": {
        "id": "sC2JZRZMFehZ"
      },
      "source": [
        "2. Using your student_number, separately sort the even numbers in **increasing order** and the odd numbers in **decreasing order** `(15 points)`\n",
        "\n",
        "    **Example:**\n",
        "\n",
        "    student_number = [2,0,2,2,1,2,3,4,5,6]\n",
        "\n",
        "    **Expected Output:**\n",
        "\n",
        "    print(student_number)\n",
        "\n",
        "    [0,2,2,2,2,4,6,5,3,1]"
      ]
    },
    {
      "cell_type": "code",
      "execution_count": 60,
      "metadata": {
        "id": "hWOh_ohcFehZ"
      },
      "outputs": [
        {
          "name": "stdout",
          "output_type": "stream",
          "text": [
            "[0, 0, 2, 2, 2, 2, 4, 4, 1, 1]\n"
          ]
        }
      ],
      "source": [
        "# put your answer here\n",
        "def merge_sort(arr, reverse=False):\n",
        "    if len(arr) <= 1:\n",
        "        return arr\n",
        "\n",
        "    mid = len(arr) // 2\n",
        "    left = arr[:mid]\n",
        "    right = arr[mid:]\n",
        "\n",
        "    left = merge_sort(left, reverse)\n",
        "    right = merge_sort(right, reverse)\n",
        "\n",
        "    return merge(left, right, reverse)\n",
        "\n",
        "def merge(left, right, reverse=False):\n",
        "    result = []\n",
        "    i = j = 0\n",
        "\n",
        "    while i < len(left) and j < len(right):\n",
        "        if (left[i] < right[j]) ^ reverse:\n",
        "            result.append(left[i])\n",
        "            i += 1\n",
        "        else:\n",
        "            result.append(right[j])\n",
        "            j += 1\n",
        "\n",
        "    result.extend(left[i:])\n",
        "    result.extend(right[j:])\n",
        "    return result\n",
        "\n",
        "student_number = [2,0,2,2,1,0,1,4,2,4]\n",
        "\n",
        "even_numbers = [x for x in student_number if x % 2 == 0]\n",
        "odd_numbers = [x for x in student_number if x % 2 != 0]\n",
        "\n",
        "even_numbers_sorted = merge_sort(even_numbers)\n",
        "odd_numbers_sorted = merge_sort(odd_numbers, reverse=True)\n",
        "\n",
        "student_number = even_numbers_sorted + odd_numbers_sorted\n",
        "\n",
        "print(student_number)"
      ]
    }
  ],
  "metadata": {
    "colab": {
      "include_colab_link": true,
      "provenance": []
    },
    "kernelspec": {
      "display_name": "Python 3",
      "language": "python",
      "name": "python3"
    },
    "language_info": {
      "codemirror_mode": {
        "name": "ipython",
        "version": 3
      },
      "file_extension": ".py",
      "mimetype": "text/x-python",
      "name": "python",
      "nbconvert_exporter": "python",
      "pygments_lexer": "ipython3",
      "version": "3.11.4"
    },
    "orig_nbformat": 4
  },
  "nbformat": 4,
  "nbformat_minor": 0
}
